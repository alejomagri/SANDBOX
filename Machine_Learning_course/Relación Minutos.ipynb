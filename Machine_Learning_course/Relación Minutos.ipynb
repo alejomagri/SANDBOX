{
  "nbformat": 4,
  "nbformat_minor": 0,
  "metadata": {
    "colab": {
      "provenance": [],
      "authorship_tag": "ABX9TyOqhQRRoqMSTeE2bSjGNhGc",
      "include_colab_link": true
    },
    "kernelspec": {
      "name": "python3",
      "display_name": "Python 3"
    },
    "language_info": {
      "name": "python"
    }
  },
  "cells": [
    {
      "cell_type": "markdown",
      "metadata": {
        "id": "view-in-github",
        "colab_type": "text"
      },
      "source": [
        "<a href=\"https://colab.research.google.com/github/alejomagri/SANDBOX/blob/main/Machine_Learning_course/Guia_1.ipynb\" target=\"_parent\"><img src=\"https://colab.research.google.com/assets/colab-badge.svg\" alt=\"Open In Colab\"/></a>"
      ]
    },
    {
      "cell_type": "markdown",
      "source": [
        "**UNIVERSIDAD EAN**"
      ],
      "metadata": {
        "id": "RXZyaKsM0TV5"
      }
    },
    {
      "cell_type": "markdown",
      "source": [
        "GUIA 1 - ESPECIALIZACION EN MACHINE LEARNING\n",
        "* Por: Sebastian Alejandro Magri Gordillo\n",
        "\n"
      ],
      "metadata": {
        "id": "2GbwkR4a0BeZ"
      }
    },
    {
      "cell_type": "markdown",
      "source": [
        "Actividad 1"
      ],
      "metadata": {
        "id": "-yyiCrSA0xxe"
      }
    },
    {
      "cell_type": "code",
      "execution_count": null,
      "metadata": {
        "id": "XIqtaWrfMXbo"
      },
      "outputs": [],
      "source": [
        "import pandas as pd"
      ]
    }
  ]
}
